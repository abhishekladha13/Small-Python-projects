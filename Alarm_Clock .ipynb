{
 "cells": [
  {
   "cell_type": "code",
   "execution_count": 1,
   "id": "58ca3b53",
   "metadata": {},
   "outputs": [],
   "source": [
    "from datetime import datetime   "
   ]
  },
  {
   "cell_type": "code",
   "execution_count": null,
   "id": "d3f6bd8f",
   "metadata": {},
   "outputs": [],
   "source": [
    "now = datetime.now()\n",
    "now"
   ]
  },
  {
   "cell_type": "code",
   "execution_count": 4,
   "id": "d8eb128e",
   "metadata": {},
   "outputs": [
    {
     "name": "stdout",
     "output_type": "stream",
     "text": [
      "Enter the time of alarm to be set:HH:MM:SS\n",
      "08:49:00\n",
      "Setting up alarm..\n",
      "Wake Up!\n"
     ]
    }
   ],
   "source": [
    "alarm_time = input(\"Enter the time of alarm to be set:HH:MM:SS\\n\")    #put the alarm time in proper format with a valid time.\n",
    "alarm_hour=alarm_time[0:2]\n",
    "alarm_minute=alarm_time[3:5]\n",
    "alarm_seconds=alarm_time[6:8]\n",
    "print(\"Setting up alarm..\")\n",
    "while True:\n",
    "    now = datetime.now()\n",
    "    current_hour = now.strftime(\"%I\")\n",
    "    current_minute = now.strftime(\"%M\")\n",
    "    current_seconds = now.strftime(\"%S\")\n",
    "    if(alarm_hour==current_hour):\n",
    "        if(alarm_minute==current_minute):\n",
    "            if(alarm_seconds==current_seconds):\n",
    "                print(\"Wake Up!\")\n",
    "                break"
   ]
  },
  {
   "cell_type": "code",
   "execution_count": 5,
   "id": "0300a7fc",
   "metadata": {},
   "outputs": [
    {
     "name": "stdout",
     "output_type": "stream",
     "text": [
      "08 49 00\n"
     ]
    }
   ],
   "source": [
    "# To verify the proper format of mini=utes and seconds verified this.\n",
    "\n",
    "now = datetime.now()\n",
    "current_hour = now.strftime(\"%I\")\n",
    "current_minute = now.strftime(\"%M\")\n",
    "current_seconds = now.strftime(\"%S\")\n",
    "    \n",
    "print(current_hour,current_minute,current_seconds)    "
   ]
  }
 ],
 "metadata": {
  "kernelspec": {
   "display_name": "Python 3 (ipykernel)",
   "language": "python",
   "name": "python3"
  },
  "language_info": {
   "codemirror_mode": {
    "name": "ipython",
    "version": 3
   },
   "file_extension": ".py",
   "mimetype": "text/x-python",
   "name": "python",
   "nbconvert_exporter": "python",
   "pygments_lexer": "ipython3",
   "version": "3.9.7"
  }
 },
 "nbformat": 4,
 "nbformat_minor": 5
}
